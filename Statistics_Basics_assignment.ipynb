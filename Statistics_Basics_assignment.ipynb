{
  "nbformat": 4,
  "nbformat_minor": 0,
  "metadata": {
    "colab": {
      "provenance": []
    },
    "kernelspec": {
      "name": "python3",
      "display_name": "Python 3"
    },
    "language_info": {
      "name": "python"
    }
  },
  "cells": [
    {
      "cell_type": "markdown",
      "source": [
        "# **Statistics Basics Assignment**"
      ],
      "metadata": {
        "id": "ZZw3dnK1SAaD"
      }
    },
    {
      "cell_type": "markdown",
      "source": [
        "1. What is the difference between descriptive statistics and inferential\n",
        "statistics? Explain with examples.\n",
        "\n",
        "-  Descriptive Statistics\n",
        "\n",
        "  Descriptive statistics are used to summarize, organize, and simplify data. It provides simple summaries about the sample and its measures.\n",
        "\n",
        " Key Features:\n",
        "\n",
        "   1.Describes data from a sample or population.\n",
        "\n",
        "   2.Includes mean, median, mode, standard deviation, percentage, etc.\n",
        "\n",
        "   3.No predictions or generalizations are made beyond the data.\n",
        "\n",
        "\n",
        "  Example:\n",
        "\n",
        "Suppose a teacher wants to know the average marks of students in a class of 40 students.\n",
        "\n",
        "  She calculates:\n",
        "\n",
        "  Mean = 75\n",
        "\n",
        "  Median = 78\n",
        "\n",
        "  Standard Deviation = 5\n",
        "\n",
        "These values describe the marks of the students in that specific class — this is descriptive statistics.\n",
        "\n",
        "Inferential Statistics:\n",
        "\n",
        "  Inferential statistics are used to make predictions or generalizations about a population based on a sample of data.\n",
        "\n",
        "   Key Features:\n",
        "\n",
        "1.Makes conclusions or predictions.\n",
        "\n",
        "2.Uses hypothesis testing, confidence intervals, regression, etc.\n",
        "\n",
        "Deals with probability and uncertainty.\n",
        "\n",
        "\n",
        "   Example:\n",
        "\n",
        "A researcher surveys 1000 people in a city to find out their average monthly spending on groceries and uses this data to predict the average spending for the entire city population.\n",
        "\n",
        "This involves inferential statistics, because it is drawing conclusions about a large group from a small sample."
      ],
      "metadata": {
        "id": "CFy9d6OnZqga"
      }
    },
    {
      "cell_type": "markdown",
      "source": [
        "2. What is sampling in statistics? Explain the differences between random\n",
        "and stratified sampling.\n",
        "-  Sampling is the process of selecting a subset (called a sample) from a larger group (called a population) to gather information and make inferences about the entire population.\n",
        "It is used when it's impractical or impossible to study the whole population due to time, cost, or logistical reasons.\n",
        "\n",
        "   - Random Sampling: Everyone has an equal chance of being chosen from the whole population.\n",
        "\n",
        "   - Stratified Sampling: Population is divided into groups (strata), then random samples are taken from each group.\n",
        "\n",
        "   -- Use random for similar populations.\n",
        "   -- Use stratified for diverse populations."
      ],
      "metadata": {
        "id": "jv_Xs66bdUK8"
      }
    },
    {
      "cell_type": "markdown",
      "source": [
        "3. Define mean, median, and mode. Explain why these measures of central\n",
        "tendency are important\n",
        "\n",
        "- Mean (Average):\n",
        "   The mean is the sum of all values divided by the number of values.\n",
        "\n",
        " Formula:\n",
        "\n",
        " Mean =\n",
        "   Sum of all values devide by Number of values\n",
        "\n",
        "  Example:\n",
        "     For the values 4, 6, 8:\n",
        " means = 4+6+8 / 3\n",
        ".      = 18/3\n",
        ".      = 6\n",
        "\n",
        "- Median\n",
        "\n",
        "\n",
        "   The median is the middle value when the numbers are arranged in order.\n",
        "\n",
        "   If there is an odd number of values, the middle one is the median.\n",
        "\n",
        "   If there is an even number, the median is the average of the two middle values.\n",
        "     Example\n",
        "       For the values 3, 5, 7 → Median = 5\n",
        "       For 3, 5, 7, 9 → Median = (5 + 7) ÷ 2 = 6\n",
        "\n",
        "- Mode\n",
        "     The mode is the value that occurs most frequently in a data set.\n",
        "\n",
        "     A set may have no mode, one mode, or multiple modes.\n",
        "\n",
        "  Example\n",
        "  For the values 2, 4, 4, 6, 8 → Mode = 4\n",
        "  \n",
        "\n",
        "  These three are called measures of central tendency because they summarize a large dataset with a single representative value. Here's why they are important:\n",
        "\n",
        "   Mean Gives a general average; useful for comparing overall performance (e.g., average income, average score).\n",
        "        \n",
        "   Median Useful when data has **outliers** or extreme values, because it is not affected by them (e.g., median house price).\n",
        "\n",
        "   Mode  Helps identify the most common or popular value (e.g., most sold product size).             "
      ],
      "metadata": {
        "id": "culoWF4qeSij"
      }
    },
    {
      "cell_type": "markdown",
      "source": [
        "4.  Explain skewness and kurtosis. What does a positive skew imply about the\n",
        "data?\n",
        "- Skewness and kurtosis are statistical measures that describe the shape and distribution of a dataset.\n",
        "\n",
        " Skewness\n",
        "\n",
        "   Skewness refers to the asymmetry of a data distribution. If the data is perfectly symmetrical (like a normal distribution), the skewness is zero.\n",
        "\n",
        "   A positive skew (right-skewed) means the right tail is longer, and most of the data values are concentrated on the left. This implies that a few unusually high values are pulling the mean to the right.\n",
        "\n",
        "   A negative skew (left-skewed) means the left tail is longer, and most data values are on the right, with some lower values pulling the mean down.\n",
        "\n",
        " Kurtosis-\n",
        "\n",
        "   Kurtosis measures the \"tailedness\" or peakedness of the data distribution.\n",
        "\n",
        "   High kurtosis indicates a sharp peak and heavy tails, meaning more outliers.\n",
        "\n",
        "   Low kurtosis indicates a flatter peak and thinner tails, with fewer outliers.\n",
        "\n",
        "   Normal kurtosis is the standard bell-shaped curve with moderate tails.\n",
        "\n",
        "\n",
        "   A positive skew implies that the dataset has a long tail on the right side, with a few large values that are higher than the majority. In this case, the mean is greater than the median, indicating that the average is being influenced by these high values. This type of distribution is common in real-world data like income levels, where most people earn less, and a few earn very high incomes."
      ],
      "metadata": {
        "id": "tUXRnweYhBaA"
      }
    },
    {
      "cell_type": "markdown",
      "source": [
        "5. Implement a Python program to compute the mean, median, and mode of\n",
        "a given list of numbers.\n",
        "  numbers = [12, 15, 12, 18, 19, 12, 20, 22, 19, 19, 24, 24, 24, 26, 28]"
      ],
      "metadata": {
        "id": "7dfST16Hh1dR"
      }
    },
    {
      "cell_type": "code",
      "source": [
        "# Que5.\n",
        "Numbers = [12, 15, 12, 18, 19, 12, 20, 22, 19, 19, 24, 24, 24, 26, 28]\n",
        "\n",
        "import statistics\n",
        "\n",
        "numbers = [12, 15, 12, 18, 19, 12, 20, 22, 19, 19, 24, 24, 24, 26, 28]\n",
        "\n",
        "# Calculating mean, median, and mode\n",
        "mean = statistics.mean(numbers)\n",
        "median = statistics.median(numbers)\n",
        "mode = statistics.mode(numbers)\n",
        "\n",
        "print(\"Mean  :\", mean)\n",
        "print(\"Median:\", median)\n",
        "print(\"Mode  :\", mode)"
      ],
      "metadata": {
        "colab": {
          "base_uri": "https://localhost:8080/"
        },
        "id": "LUbbP1fliULt",
        "outputId": "0445e4f0-d61a-4fe3-ff97-dfeb42e9898d"
      },
      "execution_count": 1,
      "outputs": [
        {
          "output_type": "stream",
          "name": "stdout",
          "text": [
            "Mean  : 19.6\n",
            "Median: 19\n",
            "Mode  : 12\n"
          ]
        }
      ]
    },
    {
      "cell_type": "markdown",
      "source": [
        "6. Compute the covariance and correlation coefficient between the following\n",
        "two datasets provided as lists in Python:\n",
        "list_x = [10, 20, 30, 40, 50]\n",
        "list_y = [15, 25, 35, 45, 60]"
      ],
      "metadata": {
        "id": "zWvHgWYRiaxC"
      }
    },
    {
      "cell_type": "code",
      "source": [
        "# Que6.\n",
        "list_x = [10, 20, 30, 40, 50]\n",
        "list_y = [15, 25, 35, 45, 60]\n",
        "\n",
        "import numpy as np\n",
        "\n",
        "\n",
        "list_x = [10, 20, 30, 40, 50]\n",
        "list_y = [15, 25, 35, 45, 60]\n",
        "\n",
        "x = np.array(list_x)\n",
        "y = np.array(list_y)\n",
        "\n",
        "# Calculate covariance matrix\n",
        "cov_matrix = np.cov(x, y, bias=False)  # bias=False uses sample covariance\n",
        "covariance = cov_matrix[0][1]\n",
        "\n",
        "# Calculate correlation coefficient\n",
        "correlation = np.corrcoef(x, y)[0][1]\n",
        "\n",
        "print(\"Covariance           :\", covariance)\n",
        "print(\"Correlation Coefficient:\", correlation)"
      ],
      "metadata": {
        "colab": {
          "base_uri": "https://localhost:8080/"
        },
        "id": "332UFGLpihhI",
        "outputId": "e2273c15-e913-47e1-83dd-dc2b9c49f2dd"
      },
      "execution_count": 2,
      "outputs": [
        {
          "output_type": "stream",
          "name": "stdout",
          "text": [
            "Covariance           : 275.0\n",
            "Correlation Coefficient: 0.995893206467704\n"
          ]
        }
      ]
    },
    {
      "cell_type": "markdown",
      "source": [
        "7. Write a Python script to draw a boxplot for the following numeric list and\n",
        "identify its outliers. Explain the result:\n",
        "data = [12, 14, 14, 15, 18, 19, 19, 21, 22, 22, 23, 23, 24, 26, 29, 35]\n",
        "-"
      ],
      "metadata": {
        "id": "g9KiMD2OivLR"
      }
    },
    {
      "cell_type": "code",
      "source": [
        "data = [12, 14, 14, 15, 18, 19, 19, 21, 22, 22, 23, 23, 24, 26, 29, 35]\n",
        "\n",
        "import matplotlib.pyplot as plt\n",
        "import numpy as np\n",
        "\n",
        "data = [12, 14, 14, 15, 18, 19, 19, 21, 22, 22, 23, 23, 24, 26, 29, 35]\n",
        "\n",
        "# Boxplot\n",
        "plt.boxplot(data)\n",
        "plt.title(\"Boxplot\")\n",
        "plt.show()\n",
        "\n",
        "# Outlier detection\n",
        "q1, q3 = np.percentile(data, [25, 75])\n",
        "iqr = q3 - q1\n",
        "lower, upper = q1 - 1.5*iqr, q3 + 1.5*iqr\n",
        "outliers = [x for x in data if x < lower or x > upper]\n",
        "print(\"Outliers:\", outliers)"
      ],
      "metadata": {
        "colab": {
          "base_uri": "https://localhost:8080/",
          "height": 469
        },
        "id": "RRBAuj8Ii2Co",
        "outputId": "cc93d457-8a65-4d73-f748-26ec7b4a23f8"
      },
      "execution_count": 3,
      "outputs": [
        {
          "output_type": "display_data",
          "data": {
            "text/plain": [
              "<Figure size 640x480 with 1 Axes>"
            ],
            "image/png": "[encoded data removed]"
          },
          "metadata": {}
        },
        {
          "output_type": "stream",
          "name": "stdout",
          "text": [
            "Outliers: [35]\n"
          ]
        }
      ]
    },
    {
      "cell_type": "markdown",
      "source": [
        "8. You are working as a data analyst in an e-commerce company. The\n",
        "marketing team wants to know if there is a relationship between advertising spend and\n",
        "daily sales.\n",
        "● Explain how you would use covariance and correlation to explore this\n",
        "relationship.\n",
        "● Write Python code to compute the correlation between the two lists:\n",
        "advertising_spend = [200, 250, 300, 400, 500]\n",
        "daily_sales = [2200, 2450, 2750, 3200, 4000]\n"
      ],
      "metadata": {
        "id": "vF3R41L_i_c7"
      }
    },
    {
      "cell_type": "code",
      "source": [
        "advertising_spend = [200, 250, 300, 400, 500]\n",
        "daily_sales = [2200, 2450, 2750, 3200, 4000]\n",
        "\n",
        "\n",
        "import numpy as np\n",
        "\n",
        "# Given data\n",
        "advertising_spend = [200, 250, 300, 400, 500]\n",
        "daily_sales = [2200, 2450, 2750, 3200, 4000]\n",
        "\n",
        "\n",
        "x = np.array(advertising_spend)\n",
        "y = np.array(daily_sales)\n",
        "\n",
        "cov_matrix = np.cov(x, y, bias=False)\n",
        "covariance = cov_matrix[0][1]\n",
        "\n",
        "# Compute correlation\n",
        "correlation = np.corrcoef(x, y)[0][1]\n",
        "\n",
        "# Print results\n",
        "print(\"Covariance:\", covariance)\n",
        "print(\"Correlation Coefficient:\", correlation)"
      ],
      "metadata": {
        "colab": {
          "base_uri": "https://localhost:8080/"
        },
        "id": "WjR6nxySjN_q",
        "outputId": "bdc3dca8-6306-4d54-ecf7-366df5dea000"
      },
      "execution_count": 5,
      "outputs": [
        {
          "output_type": "stream",
          "name": "stdout",
          "text": [
            "Covariance: 84875.0\n",
            "Correlation Coefficient: 0.9935824101653329\n"
          ]
        }
      ]
    },
    {
      "cell_type": "markdown",
      "source": [
        "9. Your team has collected customer satisfaction survey data on a scale of\n",
        "1-10 and wants to understand its distribution before launching a new product.\n",
        "● Explain which summary statistics and visualizations (e.g. mean, standard\n",
        "deviation, histogram) you’d use.\n",
        "● Write Python code to create a histogram using Matplotlib for the survey data:\n",
        "survey_scores = [7, 8, 5, 9, 6, 7, 8, 9, 10, 4, 7, 6, 9, 8, 7]\n"
      ],
      "metadata": {
        "id": "5LVCpEP0jci8"
      }
    },
    {
      "cell_type": "code",
      "source": [
        "import numpy as np\n",
        "import matplotlib.pyplot as plt\n",
        "\n",
        "# Given survey scores\n",
        "survey_scores = [7, 8, 5, 9, 6, 7, 8, 9, 10, 4, 7, 6, 9, 8, 7]\n",
        "\n",
        "# Create histogram\n",
        "plt.figure(figsize=(8, 5))\n",
        "plt.hist(survey_scores, bins=7, color='skyblue', edgecolor='black')\n",
        "plt.title(\"Customer Satisfaction Score Distribution\")\n",
        "plt.xlabel(\"Survey Score (1–10)\")\n",
        "plt.ylabel(\"Frequency\")\n",
        "plt.grid(True, linestyle='--', alpha=0.5)\n",
        "plt.show()"
      ],
      "metadata": {
        "id": "v3kFGrQGjRyS"
      },
      "execution_count": null,
      "outputs": []
    }
  ]
}